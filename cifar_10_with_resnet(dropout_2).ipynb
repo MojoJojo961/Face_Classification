{
  "nbformat": 4,
  "nbformat_minor": 0,
  "metadata": {
    "colab": {
      "name": "cifar_10_with_resnet(dropout:.2).ipynb",
      "version": "0.3.2",
      "provenance": [],
      "collapsed_sections": []
    },
    "language_info": {
      "codemirror_mode": {
        "name": "ipython",
        "version": 3
      },
      "file_extension": ".py",
      "mimetype": "text/x-python",
      "name": "python",
      "nbconvert_exporter": "python",
      "pygments_lexer": "ipython3",
      "version": "3.5.2"
    },
    "kernelspec": {
      "name": "python3",
      "display_name": "Python 3"
    },
    "accelerator": "GPU"
  },
  "cells": [
    {
      "metadata": {
        "colab_type": "code",
        "id": "wVk47Jxt9tVN",
        "colab": {}
      },
      "cell_type": "code",
      "source": [
        "import keras\n",
        "from keras.layers import Dense, Conv2D, BatchNormalization, Activation\n",
        "from keras.layers import AveragePooling2D, Input, Flatten, Dropout\n",
        "from keras.optimizers import Adam\n",
        "from keras.callbacks import ModelCheckpoint, LearningRateScheduler\n",
        "from keras.callbacks import ReduceLROnPlateau\n",
        "from keras.preprocessing.image import ImageDataGenerator\n",
        "from keras.regularizers import l2\n",
        "from keras import backend as K\n",
        "from keras.models import Model"
      ],
      "execution_count": 0,
      "outputs": []
    },
    {
      "metadata": {
        "colab_type": "code",
        "id": "LgHhw7Vr95jT",
        "outputId": "fac4ce48-dd19-40c9-f628-a6e85edb6635",
        "colab": {
          "base_uri": "https://localhost:8080/",
          "height": 34
        }
      },
      "cell_type": "code",
      "source": [
        "import tensorflow as tf\n",
        "tf.__version__"
      ],
      "execution_count": 4,
      "outputs": [
        {
          "output_type": "execute_result",
          "data": {
            "text/plain": [
              "'1.13.1'"
            ]
          },
          "metadata": {
            "tags": []
          },
          "execution_count": 4
        }
      ]
    },
    {
      "metadata": {
        "colab_type": "code",
        "id": "tK0nKp-U-Bfj",
        "colab": {}
      },
      "cell_type": "code",
      "source": [
        "def resnet_layer(inputs,\n",
        "                 num_filters=16,\n",
        "                 kernel_size=3,\n",
        "                 strides=1,\n",
        "                 activation='tanh',\n",
        "                 batch_normalization=True,\n",
        "                 conv_first=True):\n",
        "    \"\"\"2D Convolution-Batch Normalization-Activation stack builder\n",
        "\n",
        "    # Arguments\n",
        "        inputs (tensor): input tensor from input image or previous layer\n",
        "        num_filters (int): Conv2D number of filters\n",
        "        kernel_size (int): Conv2D square kernel dimensions\n",
        "        strides (int): Conv2D square stride dimensions\n",
        "        activation (string): activation name\n",
        "        batch_normalization (bool): whether to include batch normalization\n",
        "        conv_first (bool): conv-bn-activation (True) or\n",
        "            bn-activation-conv (False)\n",
        "\n",
        "    # Returns\n",
        "        x (tensor): tensor as input to the next layer\n",
        "    \"\"\"\n",
        "    conv = Conv2D(num_filters,\n",
        "                  kernel_size=kernel_size,\n",
        "                  strides=strides,\n",
        "                  padding='same',\n",
        "                  kernel_initializer='he_normal',\n",
        "                  kernel_regularizer=l2(1e-4))\n",
        "\n",
        "    x = inputs\n",
        "    if conv_first:\n",
        "        x = conv(x)\n",
        "        if batch_normalization:\n",
        "            x = BatchNormalization()(x)\n",
        "        if activation is not None:\n",
        "            x = Activation(activation)(x)\n",
        "    else:\n",
        "        if batch_normalization:\n",
        "            x = BatchNormalization()(x)\n",
        "        if activation is not None:\n",
        "            x = Activation(activation)(x)\n",
        "        x = conv(x)\n",
        "    return x"
      ],
      "execution_count": 0,
      "outputs": []
    },
    {
      "metadata": {
        "colab_type": "code",
        "id": "tlccO5V_-ZuK",
        "colab": {}
      },
      "cell_type": "code",
      "source": [
        "def resnet_v1(input_shape, depth, num_classes=10):\n",
        "    \"\"\"ResNet Version 1 Model builder [a]\n",
        "\n",
        "    Stacks of 2 x (3 x 3) Conv2D-BN-ReLU\n",
        "    Last ReLU is after the shortcut connection.\n",
        "    At the beginning of each stage, the feature map size is halved (downsampled)\n",
        "    by a convolutional layer with strides=2, while the number of filters is\n",
        "    doubled. Within each stage, the layers have the same number filters and the\n",
        "    same number of filters.\n",
        "    Features maps sizes:\n",
        "    stage 0: 32x32, 16\n",
        "    stage 1: 16x16, 32\n",
        "    stage 2:  8x8,  64\n",
        "    The Number of parameters is approx the same as Table 6 of [a]:\n",
        "    ResNet20 0.27M\n",
        "    ResNet32 0.46M\n",
        "    ResNet44 0.66M\n",
        "    ResNet56 0.85M\n",
        "    ResNet110 1.7M\n",
        "\n",
        "    # Arguments\n",
        "        input_shape (tensor): shape of input image tensor\n",
        "        depth (int): number of core convolutional layers\n",
        "        num_classes (int): number of classes (CIFAR10 has 10)\n",
        "\n",
        "    # Returns\n",
        "        model (Model): Keras model instance\n",
        "    \"\"\"\n",
        "    if (depth - 2) % 6 != 0:\n",
        "        raise ValueError('depth should be 6n+2 (eg 20, 32, 44 in [a])')\n",
        "    # Start model definition.\n",
        "    num_filters = 16\n",
        "    num_res_blocks = int((depth - 2) / 6)\n",
        "\n",
        "    inputs = Input(shape=input_shape)\n",
        "    x = resnet_layer(inputs=inputs)\n",
        "    # Instantiate the stack of residual units\n",
        "    for stack in range(3):\n",
        "        for res_block in range(num_res_blocks):\n",
        "            strides = 1\n",
        "            if stack > 0 and res_block == 0:  # first layer but not first stack\n",
        "                strides = 2  # downsample\n",
        "            y = resnet_layer(inputs=x,\n",
        "                             num_filters=num_filters,\n",
        "                             strides=strides)\n",
        "            y = resnet_layer(inputs=y,\n",
        "                             num_filters=num_filters,\n",
        "                             activation='relu')\n",
        "            if stack > 0 and res_block == 0:  # first layer but not first stack\n",
        "                # linear projection residual shortcut connection to match\n",
        "                # changed dims\n",
        "                x = resnet_layer(inputs=x,\n",
        "                                 num_filters=num_filters,\n",
        "                                 kernel_size=1,\n",
        "                                 strides=strides,\n",
        "                                 activation='tanh',\n",
        "                                 batch_normalization=True)\n",
        "                x = Dropout(.2)(x)\n",
        "                \n",
        "            x = keras.layers.add([x, y])\n",
        "            x = Activation('relu')(x)\n",
        "        num_filters *= 2\n",
        "\n",
        "    # Add classifier on top.\n",
        "    # v1 does not use BN after last shortcut connection-ReLU\n",
        "    x = AveragePooling2D(pool_size=8)(x)\n",
        "    y = Flatten()(x)\n",
        "    outputs = Dense(num_classes,\n",
        "                    activation='softmax',\n",
        "                    kernel_initializer='he_normal')(y)\n",
        "\n",
        "    # Instantiate model.\n",
        "    model = Model(inputs=inputs, outputs=outputs)\n",
        "    return model"
      ],
      "execution_count": 0,
      "outputs": []
    },
    {
      "metadata": {
        "colab_type": "code",
        "id": "QOzQMg3Y-gPg",
        "colab": {}
      },
      "cell_type": "code",
      "source": [
        "model = resnet_v1(input_shape=(32,32,3), depth=32)"
      ],
      "execution_count": 0,
      "outputs": []
    },
    {
      "metadata": {
        "colab_type": "code",
        "id": "hbxVwdIa-kY3",
        "colab": {}
      },
      "cell_type": "code",
      "source": [
        "# model.summary()"
      ],
      "execution_count": 0,
      "outputs": []
    },
    {
      "metadata": {
        "colab_type": "code",
        "id": "qd5UlDtB-xMh",
        "colab": {}
      },
      "cell_type": "code",
      "source": [
        "from keras.datasets import cifar10"
      ],
      "execution_count": 0,
      "outputs": []
    },
    {
      "metadata": {
        "colab_type": "code",
        "id": "zM9fsA9DCKpE",
        "outputId": "b66d41ed-2410-4dfb-9b20-3917e19693c4",
        "colab": {
          "base_uri": "https://localhost:8080/",
          "height": 68
        }
      },
      "cell_type": "code",
      "source": [
        "(x_train, y_train), (x_test, y_test) = cifar10.load_data()\n",
        "x_train = x_train.astype('float32')/255.\n",
        "x_test = x_test.astype('float32')/255.\n",
        "print('x_train shape:', x_train.shape)\n",
        "print(x_train.shape[0], 'train samples')\n",
        "print(x_test.shape[0], 'test samples')"
      ],
      "execution_count": 10,
      "outputs": [
        {
          "output_type": "stream",
          "text": [
            "x_train shape: (50000, 32, 32, 3)\n",
            "50000 train samples\n",
            "10000 test samples\n"
          ],
          "name": "stdout"
        }
      ]
    },
    {
      "metadata": {
        "colab_type": "code",
        "id": "1NPmk497CeJi",
        "colab": {}
      },
      "cell_type": "code",
      "source": [
        "batch_size = 16\n",
        "num_classes = 10\n",
        "epochs = 50\n",
        "data_augmentation = False\n",
        "#num_predictions = 20"
      ],
      "execution_count": 0,
      "outputs": []
    },
    {
      "metadata": {
        "colab_type": "code",
        "id": "a9vPh-cvCQEW",
        "colab": {}
      },
      "cell_type": "code",
      "source": [
        "# Convert class vectors to binary class matrices.\n",
        "y_train = keras.utils.to_categorical(y_train, num_classes)\n",
        "y_test = keras.utils.to_categorical(y_test, num_classes)"
      ],
      "execution_count": 0,
      "outputs": []
    },
    {
      "metadata": {
        "colab_type": "code",
        "id": "w_w16XH1CYnt",
        "colab": {}
      },
      "cell_type": "code",
      "source": [
        "# initiate RMSprop optimizer\n",
        "opt = keras.optimizers.adam(lr=0.001, decay=1e-6)"
      ],
      "execution_count": 0,
      "outputs": []
    },
    {
      "metadata": {
        "colab_type": "code",
        "id": "oF0e1dSECi3k",
        "colab": {}
      },
      "cell_type": "code",
      "source": [
        "# Let's train the model using RMSprop\n",
        "model.compile(loss='categorical_crossentropy',\n",
        "              optimizer=opt,\n",
        "              metrics=['accuracy'])"
      ],
      "execution_count": 0,
      "outputs": []
    },
    {
      "metadata": {
        "colab_type": "code",
        "id": "k6htbGNOCmEC",
        "outputId": "5d632714-cee3-4f61-f460-a2bcda308d65",
        "colab": {
          "base_uri": "https://localhost:8080/",
          "height": 700
        }
      },
      "cell_type": "code",
      "source": [
        "from keras.callbacks import EarlyStopping\n",
        "early_stopping_monitor = EarlyStopping(patience=5, verbose=1)\n",
        "\n",
        "if data_augmentation:\n",
        "  \n",
        "  datagen = ImageDataGenerator(\n",
        "    featurewise_center=True,\n",
        "    featurewise_std_normalization=True,\n",
        "    rotation_range=20,\n",
        "    width_shift_range=0.2,\n",
        "    height_shift_range=0.2,\n",
        "    horizontal_flip=True)\n",
        "  \n",
        "  datagen.fit(x_train)\n",
        "\n",
        "  # fits the model on batches with real-time data augmentation:\n",
        "  model.fit_generator(datagen.flow(x_train, y_train, batch_size=batch_size),\n",
        "                      steps_per_epoch=len(x_train) / batch_size,\n",
        "                      epochs=epochs,\n",
        "                      validation_data=(x_test, y_test), \n",
        "                      shuffle=True)\n",
        "else:\n",
        "  model.fit(x_train, y_train,\n",
        "              batch_size=batch_size,\n",
        "              epochs=epochs,\n",
        "              validation_data=(x_test, y_test),\n",
        "              shuffle=True)"
      ],
      "execution_count": 23,
      "outputs": [
        {
          "output_type": "stream",
          "text": [
            "Train on 50000 samples, validate on 10000 samples\n",
            "Epoch 1/50\n",
            "50000/50000 [==============================] - 222s 4ms/step - loss: 1.7257 - acc: 0.4632 - val_loss: 1.6184 - val_acc: 0.5220\n",
            "Epoch 2/50\n",
            "50000/50000 [==============================] - 203s 4ms/step - loss: 1.2679 - acc: 0.6232 - val_loss: 1.1973 - val_acc: 0.6512\n",
            "Epoch 3/50\n",
            "50000/50000 [==============================] - 205s 4ms/step - loss: 1.0959 - acc: 0.6865 - val_loss: 1.0053 - val_acc: 0.7199\n",
            "Epoch 4/50\n",
            "50000/50000 [==============================] - 202s 4ms/step - loss: 0.9931 - acc: 0.7286 - val_loss: 1.0077 - val_acc: 0.7221\n",
            "Epoch 5/50\n",
            "50000/50000 [==============================] - 204s 4ms/step - loss: 0.9306 - acc: 0.7510 - val_loss: 1.1027 - val_acc: 0.7005\n",
            "Epoch 6/50\n",
            "50000/50000 [==============================] - 204s 4ms/step - loss: 0.8777 - acc: 0.7724 - val_loss: 0.8575 - val_acc: 0.7813\n",
            "Epoch 7/50\n",
            "50000/50000 [==============================] - 205s 4ms/step - loss: 0.8399 - acc: 0.7863 - val_loss: 0.9509 - val_acc: 0.7469\n",
            "Epoch 8/50\n",
            "50000/50000 [==============================] - 201s 4ms/step - loss: 0.8137 - acc: 0.7959 - val_loss: 0.9111 - val_acc: 0.7673\n",
            "Epoch 9/50\n",
            "50000/50000 [==============================] - 205s 4ms/step - loss: 0.7851 - acc: 0.8073 - val_loss: 1.0171 - val_acc: 0.7350\n",
            "Epoch 10/50\n",
            "50000/50000 [==============================] - 201s 4ms/step - loss: 0.7649 - acc: 0.8155 - val_loss: 1.0793 - val_acc: 0.7297\n",
            "Epoch 11/50\n",
            "50000/50000 [==============================] - 202s 4ms/step - loss: 0.7426 - acc: 0.8234 - val_loss: 0.9585 - val_acc: 0.7662\n",
            "Epoch 12/50\n",
            "50000/50000 [==============================] - 204s 4ms/step - loss: 0.7254 - acc: 0.8303 - val_loss: 0.8825 - val_acc: 0.7830\n",
            "Epoch 13/50\n",
            "50000/50000 [==============================] - 202s 4ms/step - loss: 0.7130 - acc: 0.8354 - val_loss: 0.8496 - val_acc: 0.7949\n",
            "Epoch 14/50\n",
            "50000/50000 [==============================] - 200s 4ms/step - loss: 0.6946 - acc: 0.8423 - val_loss: 0.9728 - val_acc: 0.7680\n",
            "Epoch 15/50\n",
            "50000/50000 [==============================] - 204s 4ms/step - loss: 0.6842 - acc: 0.8486 - val_loss: 0.8759 - val_acc: 0.7878\n",
            "Epoch 16/50\n",
            "50000/50000 [==============================] - 202s 4ms/step - loss: 0.6715 - acc: 0.8540 - val_loss: 0.9481 - val_acc: 0.7595\n",
            "Epoch 17/50\n",
            "50000/50000 [==============================] - 201s 4ms/step - loss: 0.6594 - acc: 0.8576 - val_loss: 0.8604 - val_acc: 0.8019\n",
            "Epoch 18/50\n",
            "50000/50000 [==============================] - 203s 4ms/step - loss: 0.6480 - acc: 0.8634 - val_loss: 0.8774 - val_acc: 0.7907\n",
            "Epoch 19/50\n",
            "30736/50000 [=================>............] - ETA: 1:14 - loss: 0.6312 - acc: 0.8686Buffered data was truncated after reaching the output size limit."
          ],
          "name": "stdout"
        }
      ]
    },
    {
      "metadata": {
        "colab_type": "code",
        "id": "fYQ_BnPzDv6A",
        "outputId": "daa4cbf3-71d9-4142-8e79-ff4dae7b5789",
        "colab": {
          "base_uri": "https://localhost:8080/",
          "height": 68
        }
      },
      "cell_type": "code",
      "source": [
        "# Score trained model.\n",
        "scores = model.evaluate(x_test, y_test, verbose=1)\n",
        "print('Test loss:', scores[0])\n",
        "print('Test accuracy:', scores[1])"
      ],
      "execution_count": 24,
      "outputs": [
        {
          "output_type": "stream",
          "text": [
            "10000/10000 [==============================] - 3s 346us/step\n",
            "Test loss: 0.858166369342804\n",
            "Test accuracy: 0.8252\n"
          ],
          "name": "stdout"
        }
      ]
    },
    {
      "metadata": {
        "colab_type": "code",
        "id": "QOsrUO9KFMpw",
        "colab": {}
      },
      "cell_type": "code",
      "source": [
        ""
      ],
      "execution_count": 0,
      "outputs": []
    }
  ]
}